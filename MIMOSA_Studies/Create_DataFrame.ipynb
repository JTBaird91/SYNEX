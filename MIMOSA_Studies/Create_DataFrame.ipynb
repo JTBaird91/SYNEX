{
 "cells": [
  {
   "cell_type": "code",
   "execution_count": null,
   "id": "1ac0c0bc",
   "metadata": {},
   "outputs": [],
   "source": [
    "#########\n",
    "#\n",
    "# Notebook to turn randomized SYNEX data (after tiling) into a base data frame.\n",
    "# This is a much easier data structure to manipulate and takes much less time to load\n",
    "# and analyse than loading all the detector savefiles after gwemopt is run.\n",
    "# This also adds a layer of security. If you accidentally overwrite a dataframe or\n",
    "# permanently change it, then you till still have the base dat and lisabeta files to\n",
    "# recreate teh dataframe from.\n",
    "#\n",
    "#########"
   ]
  },
  {
   "cell_type": "code",
   "execution_count": null,
   "id": "41130599",
   "metadata": {},
   "outputs": [],
   "source": [
    "%matplotlib inline\n",
    "\n",
    "# Set path to SYNEX\n",
    "import os,sys\n",
    "import pathlib\n",
    "SYNEX_PATH=os.popen('pwd').read().split(\"SYNEX\")[0]+\"SYNEX\"\n",
    "sys.path.insert(1, SYNEX_PATH)\n",
    "# print(sys.path)\n",
    "# sys.path.insert(1, os.path.join(sys.path[0], '..'))"
   ]
  },
  {
   "cell_type": "code",
   "execution_count": null,
   "id": "c29838dc",
   "metadata": {},
   "outputs": [],
   "source": [
    "import importlib\n",
    "import numpy as np\n",
    "import pandas as pd\n",
    "import lisabeta.utils.plotutils as plotutils\n",
    "import time\n",
    "import glob\n",
    "import copy\n",
    "from astropy.cosmology import Planck13, z_at_value\n",
    "from astropy.cosmology import WMAP9 as cosmo\n",
    "from astropy.time import Time\n",
    "import json\n",
    "import healpy as hp\n",
    "import gwemopt\n",
    "from gwemopt import utils as gou\n",
    "import SYNEX\n",
    "from SYNEX import SYNEX_Utils as SYU\n",
    "from SYNEX import SYNEX_Detectors as SYDs\n",
    "from SYNEX import SYNEX_Sources as SYSs\n",
    "import matplotlib.pyplot as plt\n",
    "import matplotlib as mpl\n",
    "import matplotlib.pylab as pylab\n",
    "from SYNEX.SYNEX_Utils import pylab_params\n",
    "pylab.rcParams.update(pylab_params)\n",
    "importlib.reload(SYU)"
   ]
  },
  {
   "cell_type": "code",
   "execution_count": null,
   "id": "1e002849",
   "metadata": {},
   "outputs": [],
   "source": [
    "# Grab all available systems\n",
    "AthenaSaves=glob.glob(SYNEX_PATH+\"/Saved_Telescope_Dicts/Randomized_SYNEX2/Randomized_*.dat\")\n",
    "print(len(AthenaSaves),\"randomized SYNEX Athena savefiles found. Forming list of telescope objects [this may take some time]...\")\n",
    "Athenas=[SYDs.Athena(**{\"ExistentialFileName\":f,\"verbose\":False}) for f in AthenaSaves]\n",
    "\n",
    "# Remove faulty stuff that needs replacing\n",
    "Athenas=[a for a in Athenas if a.detector_source_coverage[\"source JsonFile\"]!=None]\n",
    "\n",
    "print(\"DONE.\")\n"
   ]
  },
  {
   "cell_type": "code",
   "execution_count": null,
   "id": "c8a26444",
   "metadata": {},
   "outputs": [],
   "source": [
    "# Check savefile substructures (these might be different on cluster and therefore need changing to local copies of objects.)\n",
    "print(AthenaSaves[0],Athenas[0].ExistentialFileName,Athenas[0].detector_source_coverage[\"source save file\"],Athenas[0].detector_source_coverage[\"source JsonFile\"],Athenas[0].detector_source_coverage[\"source H5File\"])\n",
    "print(\"\\n\")\n",
    "\n",
    "# Need to change location of Json files since paths are simple on cluster but have substucture locally\n",
    "for ii in range(len(Athenas)):\n",
    "    Athenas[ii].detector_source_coverage[\"source JsonFile\"] = SYNEX_PATH + \"/inference_param_files/Randomized_SYNEX2/\" + Athenas[ii].detector_source_coverage[\"source JsonFile\"].split(\"/\")[-1]\n",
    "    Athenas[ii].detector_source_coverage[\"source H5File\"] = SYNEX_PATH + \"/inference_data/Randomized_SYNEX2/\" + Athenas[ii].detector_source_coverage[\"source H5File\"].split(\"/\")[-1]\n",
    "\n",
    "# Check if things are good now\n",
    "print(AthenaSaves[0],Athenas[0].ExistentialFileName,Athenas[0].detector_source_coverage[\"source save file\"],Athenas[0].detector_source_coverage[\"source JsonFile\"],Athenas[0].detector_source_coverage[\"source H5File\"])\n"
   ]
  },
  {
   "cell_type": "code",
   "execution_count": null,
   "id": "5f4f7e6b",
   "metadata": {},
   "outputs": [],
   "source": [
    "# Create data frame from Athena objects\n",
    "SaveFile = 'Randomized_SYNEX2/data.h5'\n",
    "data = SYU.GetDataFrame(detectors=Athenas,SaveFile=SaveFile) # Both inputs given so any existing SaveFile will be overwritten. \n",
    "print(data.head(10))\n"
   ]
  }
 ],
 "metadata": {
  "kernelspec": {
   "display_name": "Python 3 (ipykernel)",
   "language": "python",
   "name": "python3"
  },
  "language_info": {
   "codemirror_mode": {
    "name": "ipython",
    "version": 3
   },
   "file_extension": ".py",
   "mimetype": "text/x-python",
   "name": "python",
   "nbconvert_exporter": "python",
   "pygments_lexer": "ipython3",
   "version": "3.9.2"
  }
 },
 "nbformat": 4,
 "nbformat_minor": 5
}
