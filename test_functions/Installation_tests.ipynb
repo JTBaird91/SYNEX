{
 "cells": [
  {
   "cell_type": "code",
   "execution_count": 1,
   "id": "40c577a2",
   "metadata": {},
   "outputs": [],
   "source": [
    "###############################################################################\n",
    "#                                                                             #\n",
    "#                                                                             #\n",
    "# Basic tests of SYNEX functions to make sure everything installed correctly. #\n",
    "#                                                                             #\n",
    "#                                                                             #\n",
    "###############################################################################\n",
    "%matplotlib inline"
   ]
  },
  {
   "cell_type": "code",
   "execution_count": 2,
   "id": "7b514f3e",
   "metadata": {},
   "outputs": [],
   "source": [
    "###########################\n",
    "#                         #\n",
    "# Basic starting tests... #\n",
    "#                         #\n",
    "###########################"
   ]
  },
  {
   "cell_type": "code",
   "execution_count": 3,
   "id": "1cbe9464",
   "metadata": {},
   "outputs": [],
   "source": [
    "# Import starting packages\n",
    "import os,sys\n",
    "\n",
    "# Define SYNEX_PATH variable, add to path if not already there\n",
    "try:\n",
    "    from SYNEX.SYNEX_Utils import SYNEX_PATH\n",
    "except:\n",
    "    SYNEX_PATH=os.popen('pwd').read().split(\"SYNEX\")[0]+\"SYNEX\"\n",
    "    sys.path.insert(1, SYNEX_PATH)\n",
    "\n",
    "# print(SYNEX_PATH) ### Check this is right."
   ]
  },
  {
   "cell_type": "code",
   "execution_count": 4,
   "id": "121b830a",
   "metadata": {},
   "outputs": [],
   "source": [
    "### Continue importing ###\n",
    "\n",
    "\n",
    "# required packages\n",
    "from astropy.time import Time\n",
    "import numpy as np\n",
    "import pandas as pd\n",
    "import healpy as hp\n",
    "from scipy import stats\n",
    "import time\n",
    "from astropy.time import Time\n",
    "\n",
    "\n",
    "# gwemopt\n",
    "import gwemopt\n",
    "\n",
    "\n",
    "# lisabeta\n",
    "import lisabeta\n",
    "import lisabeta.lisa.lisa_fisher as lisa_fisher\n",
    "import lisabeta.lisa.lisa as lisa\n",
    "import lisabeta.lisa.lisatools as lisatools\n",
    "import lisabeta.lisa.pyLISAnoise as pyLISAnoise\n",
    "import lisabeta.lisa.pyresponse as pyresponse\n",
    "import lisabeta.tools.pytools as pytools\n",
    "import lisabeta.pyconstants as pyconstants\n",
    "import lisabeta.inference.inference as inference\n",
    "import lisabeta.utils.plotutils as plotutils\n",
    "\n",
    "\n",
    "# synex\n",
    "import SYNEX.SYNEX_Utils as SYU\n",
    "import SYNEX.SYNEX_Sources as SYSs\n",
    "import SYNEX.SYNEX_Detectors as SYDs\n",
    "import SYNEX.SYNEX_Telescopes as SYTs\n",
    "import SYNEX.segments_athena as segs_a\n",
    "\n",
    "\n",
    "# Plotting\n",
    "import matplotlib.pyplot as plt\n",
    "import matplotlib as mpl\n",
    "import matplotlib.pylab as pylab\n",
    "try:\n",
    "    import ligo.skymap.plot\n",
    "    cmap = \"cylon\"\n",
    "except:\n",
    "    cmap = 'PuBuGn'\n",
    "pylab_params = {'legend.fontsize': 4,\n",
    "         'axes.labelsize': 4,\n",
    "         'axes.titlesize': 4,\n",
    "         'xtick.labelsize': 4,\n",
    "         'ytick.labelsize': 4,\n",
    "         'lines.markersize': 0.7,\n",
    "         'lines.linewidth': 0.7,\n",
    "         'font.size': 4}\n",
    "pylab.rcParams.update(pylab_params)\n",
    "\n",
    "\n",
    "# Stop warnings about deprecated methods...\n",
    "import warnings\n",
    "warnings.filterwarnings(\"ignore\")"
   ]
  },
  {
   "cell_type": "code",
   "execution_count": 5,
   "id": "d2e1133d",
   "metadata": {},
   "outputs": [],
   "source": [
    "# Using MPI or not\n",
    "try:\n",
    "    from mpi4py import MPI\n",
    "except ModuleNotFoundError:\n",
    "    MPI = None\n",
    "\n",
    "use_mpi=False\n",
    "is_master = True\n",
    "mapper = map\n",
    "if MPI is not None:\n",
    "    MPI_size = MPI.COMM_WORLD.Get_size()\n",
    "    MPI_rank = MPI.COMM_WORLD.Get_rank()\n",
    "    comm_global = MPI.COMM_WORLD\n",
    "    use_mpi = (MPI_size > 1)\n",
    "    if use_mpi:\n",
    "        # print(\"MPI rank/size: %d / %d\" % (MPI_rank, MPI_size), flush=True)\n",
    "        pool = ptemcee.mpi_pool.MPIPool(debug=False)\n",
    "        is_master = pool.is_master()\n",
    "        mapper = pool.map\n",
    "    else:\n",
    "        # print(\"No MPI\", flush=True)\n",
    "        is_master = True\n",
    "        mapper = map"
   ]
  },
  {
   "cell_type": "code",
   "execution_count": 6,
   "id": "d26c25c0",
   "metadata": {},
   "outputs": [],
   "source": [
    "#####################\n",
    "#                   #\n",
    "# lisabeta tests... #\n",
    "#                   #\n",
    "#####################"
   ]
  },
  {
   "cell_type": "code",
   "execution_count": 7,
   "id": "bb8a95ea",
   "metadata": {},
   "outputs": [
    {
     "name": "stdout",
     "output_type": "stream",
     "text": [
      "Json file created for source at: ../SYNEX/inference_param_files/Test_system.json\n"
     ]
    }
   ],
   "source": [
    "# LISA object params\n",
    "LISA_base_kwargs = {\"TDI\":'TDIAET',\"verbose\":False}\n",
    "\n",
    "# Create LISA\n",
    "LISA = SYDs.LISA(**LISA_base_kwargs)\n",
    "\n",
    "\n",
    "\n",
    "\n",
    "\n",
    "\n",
    "\n",
    "# Source object parameters\n",
    "# NB Dec = beta and Ra = lambda (more or less)\n",
    "#Merger_kwargs = {\n",
    "#        \"q\": 3, \"M\": 2e7, \"chi1\": 0.9, \"z\": 2., # \"dist\":13600., # \n",
    "#        \"chi2\": 0.95, \"beta\" : np.pi/3., \"lambda\" : np.pi/6.,\n",
    "#        \"inc\": 40.3*np.pi/180., \"psi\": 0.,  \"approximant\" : 'IMRPhenomHM',\n",
    "#        \"Lframe\":True, \"DeltatL_cut\":-3*7*24*60*60,\n",
    "#        \"verbose\":False,\n",
    "#        \"ExistentialFileName\":SYNEX_PATH+\"/Saved_Source_Dicts/Test_system.dat\",\n",
    "#        \"JsonFile\":\"Test_system\"\n",
    "#}\n",
    "\n",
    "Merger_kwargs = {\n",
    "        \"q\": 1.1, \"M\": 5e7, \"chi1\": 0.9, \"z\": 3.11, # \"dist\":13600., # \n",
    "        \"chi2\": 0.95, \"beta\" : -1.*np.pi/8., \"lambda\" : np.pi/3.,\n",
    "        \"inc\": np.pi/10., \"psi\": 0.4, \"phi\":0., \"approximant\" : 'IMRPhenomHM',\n",
    "        \"Lframe\":True, \"DeltatL_cut\":-24*60*60, # Stop one day before merger event.\n",
    "        \"verbose\":False,\n",
    "        \"ExistentialFileName\":SYNEX_PATH+\"/Saved_Source_Dicts/Test_system.dat\",\n",
    "        \"JsonFile\":\"Test_system\",\n",
    "        \"MUTATED\":False\n",
    "}\n",
    "\n",
    "# Create source\n",
    "Merger=SYSs.SMBH_Merger(**Merger_kwargs)\n",
    "\n",
    "\n",
    "\n",
    "\n",
    "\n",
    "# Inference params definition with prior ranges and types\n",
    "inference_params = {\n",
    "    \"infer_params\": [\"chi1\", \"chi2\", \"dist\", \"inc\", \"phi\", \"lambda\", \"beta\", \"psi\"],\n",
    "    \"params_range\": [[-1., 1.], [-1., 1.], [5e3, 2e5], [0.,np.pi], [-np.pi, np.pi], [-np.pi, np.pi], [-np.pi/2.,np.pi/2.], [0.,np.pi]],\n",
    "    \"prior_type\": [\"uniform\", \"uniform\", \"uniform\", \"sin\", \"uniform\", \"uniform\", \"cos\", \"uniform\"],\n",
    "    \"wrap_params\": None\n",
    "}\n",
    "\n",
    "# Parameters governing MCMC inference -- NB: samples used are SMALL to reduce runtime. Larger numbers commented out are recommended for proper inference runs.\n",
    "RunTimekwargs = {\n",
    "    \"print_info\": True,\n",
    "    \"n_walkers\":  32, # 96,\n",
    "    \"n_iter\": 8500, # 8000, # 15000, # \n",
    "    \"burn_in\": 5000, # 4000, # 5000, # \n",
    "    \"autocor_method\": \"autocor_new\",\n",
    "    \"thin_samples\": True, # False,\n",
    "    \"multimodal\": True,\n",
    "    \"multimodal_pattern\": \"8modes\",\n",
    "    \"p_jump\": 0.5,\n",
    "    \"init_method\": \"fisher\",\n",
    "    \"skip_fisher\": False,\n",
    "    \"n_temps\": 10,\n",
    "    \"output_raw\":False\n",
    "}\n",
    "\n",
    "\n",
    "\n",
    "# Write params to json file\n",
    "SYU.WriteParamsToJson(Merger,LISA,inference_params,is_master,**RunTimekwargs)\n",
    "print(\"Json file created for source at: ../SYNEX/\"+Merger.JsonFile.split(\"/SYNEX/\")[-1])\n",
    "\n"
   ]
  },
  {
   "cell_type": "code",
   "execution_count": 8,
   "id": "c92fe17e",
   "metadata": {
    "scrolled": false
   },
   "outputs": [
    {
     "name": "stdout",
     "output_type": "stream",
     "text": [
      "Merger detected by LISA with SNR: 15.725502514959496\n"
     ]
    },
    {
     "data": {
      "text/plain": [
       "<Figure size 640x480 with 0 Axes>"
      ]
     },
     "metadata": {},
     "output_type": "display_data"
    },
    {
     "data": {
      "image/png": "[encoded data removed]",
      "text/plain": [
       "<Figure size 864x288 with 2 Axes>"
      ]
     },
     "metadata": {
      "needs_background": "light"
     },
     "output_type": "display_data"
    },
    {
     "data": {
      "image/png": "[encoded data removed]",
      "text/plain": [
       "<Figure size 576x288 with 1 Axes>"
      ]
     },
     "metadata": {
      "needs_background": "light"
     },
     "output_type": "display_data"
    }
   ],
   "source": [
    "### Basic tests of source\n",
    "\n",
    "# Plot params\n",
    "%matplotlib inline\n",
    "plt.rcParams['axes.titlesize'] = 24\n",
    "plt.rcParams['axes.labelsize'] = 20\n",
    "plt.rcParams['legend.fontsize'] = 20\n",
    "plt.rcParams['xtick.labelsize'] = 15\n",
    "plt.rcParams['ytick.labelsize'] = 15\n",
    "plt.figure(figsize=(8, 6), dpi=80)\n",
    "\n",
    "\n",
    "# SNR\n",
    "SNR = SYU.ComputeSNR(Merger, LISA, freqs=None, Lframe=False, ReturnAllVariable=False)\n",
    "print(\"Merger detected by LISA with SNR:\",SNR)\n",
    "\n",
    "\n",
    "\n",
    "# Get signal\n",
    "wftdi = SYU.GetSMBHGWDetection(Merger, LISA, **{})\n",
    "\n",
    "\n",
    "# Amplitude and phase of h_lm, summed over all channels\n",
    "labels = [r'$h_{22}$', r'$h_{21}$', r'$h_{33}$', r'$h_{32}$', r'$h_{44}$', r'$h_{43}$']\n",
    "fig, axs = plt.subplots(1,2, figsize=[12,4])\n",
    "plotutils.lloglogplot(axs[0], *[[wftdi[lm]['freq'], wftdi[lm]['amp']] for lm in wftdi['modes'] if len(wftdi[lm]['freq'])>0], labels=[lab for lab,lm in zip(labels,wftdi['modes']) if len(wftdi[lm]['freq'])>0])\n",
    "plotutils.lloglinearplot(axs[1], *[[wftdi[lm]['freq'], wftdi[lm]['phase']] for lm in wftdi['modes'] if len(wftdi[lm]['freq'])>0], labels=[lab for lab,lm in zip(labels,wftdi['modes']) if len(wftdi[lm]['freq'])>0])\n",
    "for i in range(2): axs[i].set_xlabel(r'$f \\; (\\mathrm{Hz})$')\n",
    "axs[0].legend(loc='lower left')\n",
    "axs[1].legend(loc='upper right')\n",
    "axs[0].set_title(r'Amplitude')\n",
    "axs[1].set_title(r'Phase')\n",
    "fig.tight_layout()\n",
    "\n",
    "\n",
    "# Create LISA noise\n",
    "SYU.ComputeDetectorNoise(Merger, LISA)\n",
    "\n",
    "# Plot noise\n",
    "plt.loglog(LISA.Snvals[\"freqs\"], LISA.Snvals[\"chan1\"], label=\"chan1\")\n",
    "plt.loglog(LISA.Snvals[\"freqs\"], LISA.Snvals[\"chan2\"], label=\"chan2\")\n",
    "plt.loglog(LISA.Snvals[\"freqs\"], LISA.Snvals[\"chan3\"], label=\"chan3\")\n",
    "\n",
    "# labels\n",
    "plt.xlabel(r\"f [Hz]\")\n",
    "plt.ylabel(r\"$\\tilde{\\mathrm{S}}_{\\mathrm{n}}$ [Hz$^{-1}$]\")\n",
    "plt.legend()\n",
    "\n",
    "# Show and grid\n",
    "# plt.grid()\n",
    "plt.show()\n"
   ]
  },
  {
   "cell_type": "code",
   "execution_count": null,
   "id": "d8ae8299",
   "metadata": {},
   "outputs": [
    {
     "name": "stdout",
     "output_type": "stream",
     "text": [
      "No MPI\n"
     ]
    }
   ],
   "source": [
    "# Begin inference if the test_file doesn't already exist (this takes time...)\n",
    "t0 = time.time()\n",
    "if not os.path.isfile(Merger.H5File):\n",
    "    if use_mpi:\n",
    "        os.system(\"time mpirun -np 10 python3 \" + SYNEX_PATH + \"/lisabeta/lisabeta/inference/ptemcee_smbh.py \" + Merger.JsonFile + \"> ${SLURM_SUBMIT_DIR}/lisabeta_test_run.txt\")\n",
    "    else:\n",
    "        os.system(\"python3 \" + SYNEX_PATH + \"/lisabeta/lisabeta/inference/ptemcee_smbh.py \" + Merger.JsonFile)\n",
    "t1 = time.time()\n",
    "\n",
    "print(\"Time to completion:\",(t1-t0)/60,\"min\") ### Around 1hr08min. Reduce RunTimekwargs[\"n_walkers\"], RunTimekwargs[\"n_iters\"], and RunTimekwargs[\"burn_in\"] if you don't want to wait.\n",
    "\n",
    "### NOTE: you may need to run this in a seperate shell script when testing on cluster. See the SYNEX manual\n",
    "#         for example shell scripts in section `Running on cluster'.\n",
    "\n"
   ]
  },
  {
   "cell_type": "code",
   "execution_count": null,
   "id": "b418c9e3",
   "metadata": {
    "scrolled": false
   },
   "outputs": [],
   "source": [
    "# See inference results\n",
    "SYU.PlotInferenceData(Merger.H5File, SaveFig=False)\n",
    "\n",
    "# See just lambda and beta (equivalent of RA and Dec)\n",
    "# Note: convention in lisabeta is slightly different with RA <--> lattitude.\n",
    "# Note: red is true location, blue is best fit posterior.\n",
    "SYU.PlotInferenceLambdaBeta(Merger.H5File, bins=50, SkyProjection=False, SaveFig=False, return_data=False)"
   ]
  },
  {
   "cell_type": "code",
   "execution_count": null,
   "id": "aa2dcd4c",
   "metadata": {},
   "outputs": [],
   "source": [
    "# Calculate the skymap\n",
    "Merger.sky_map = Merger.H5File.split(\"inference_data\")[0] + 'Skymap_files' + Merger.H5File.split(\"inference_data\")[-1].strip(\".h5\")\n",
    "Merger.CreateSkyMapStruct(SkyMapFileName=None)\n",
    "\n",
    "# See the skymap\n",
    "SYU.PlotSkyMapData(Merger,SaveFig=False,plotName=None)\n",
    "\n",
    "# Save everthing again\n",
    "Merger.ExistentialCrisis()\n"
   ]
  },
  {
   "cell_type": "code",
   "execution_count": null,
   "id": "6df40217",
   "metadata": {},
   "outputs": [],
   "source": [
    "### Sky areas:\n",
    "\n",
    "# Fisher sky area NB: No inference is needed, just an instance of system and LISA\n",
    "#fishercov = SYU.GetFisher_smbh(Merger, LISA, **{})\n",
    "#SkyArea = lisatools.sky_area_cov(fishercov, sq_deg=True, n_sigma=None, prob=0.90)\n",
    "SkyArea_fisher = Merger.FisherSkyArea\n",
    "\n",
    "# Posterior sky area NB Inference must be run since we are calculating from MCMC posteriors... Precision vs time and all that.\n",
    "SkyArea_post = Merger.PostSkyArea\n",
    "\n",
    "# Try older function to see the difference\n",
    "tmp_area=SYU.GetTotSkyAreaFromPostData_OLD(Merger.H5File)\n",
    "\n",
    "# print\n",
    "print(r\"SkyArea according to Fisher inf. matrix:\",SkyArea_fisher,r\"deg^2\")\n",
    "print(r\"SkyArea according to MCMC inference posteriors:\",SkyArea_post,r\"deg^2\")\n",
    "print(r\"SkyArea according to OLD posterior functon:\",tmp_area,r\"rad^2, or\",tmp_area*(180/np.pi)**2,r\"deg^2\")\n"
   ]
  },
  {
   "cell_type": "code",
   "execution_count": null,
   "id": "b701bc23",
   "metadata": {},
   "outputs": [],
   "source": [
    "####################\n",
    "#                  #\n",
    "# GWEMOpt tests... #\n",
    "#                  #\n",
    "####################"
   ]
  },
  {
   "cell_type": "code",
   "execution_count": null,
   "id": "2761b85f",
   "metadata": {},
   "outputs": [],
   "source": [
    "### Athena Object ###\n",
    "\n",
    "\n",
    "# Telescope args\n",
    "t0 = '2034-01-01T00:00:00.00'\n",
    "t = Time(t0, format='isot', scale='utc').gps\n",
    "Athena_kwargs={\n",
    "                \"ExistentialFileName\":SYNEX_PATH+\"/Saved_Telescope_Dicts/Athena_test.dat\",\n",
    "                \"verbose\":False,\n",
    "                \"telescope\":\"Athena_test\",\n",
    "                \"orbitFile\":\"/SYNEX/orbit_files/Athena_test.dat\", ## Need to include test for this\n",
    "                \"Tobs\":np.array([0.,9.]),\n",
    "                \"tilesType\" : \"moc\",\n",
    "                \"timeallocationType\" : \"powerlaw\",\n",
    "                \"scheduleType\" : \"greedy\",\n",
    "                \"doCalcTiles\" : False,\n",
    "                \"Ntiles\" : None,\n",
    "                \"frozenAthena\" : False,\n",
    "                \"exposuretime\" : 10000.,\n",
    "                \"min_observability_duration\" : None,\n",
    "                \"inc\" : 60.,\n",
    "                \"MeanRadius\" : 750000000.,\n",
    "                \"semi_maj\" : 750000000.,\n",
    "                \"eccentricity\" : 0.4,\n",
    "                \"ArgPeriapsis\" : 20.,\n",
    "                \"AscendingNode\" : -10.,\n",
    "                \"phi_0\" : 10.,\n",
    "                \"period\" : 90.,\n",
    "                \"gps_science_start\" : t,\n",
    "                \"mission_duration\" : 2.,\n",
    "                \"filt_change_time\" : 0.,\n",
    "                \"overhead_per_exposure\" : 0.,\n",
    "                \"latitude\" : 0.,\n",
    "                \"longitude\" : 0.,\n",
    "                \"elevation\" : 0.,\n",
    "                \"slew_rate\" : 1.,\n",
    "                \"horizon\" : 0.,\n",
    "                \"doMinimalTiling\" : True,\n",
    "                \"readout\" : 0.0001,\n",
    "                \"doSingleExposure\" : True,\n",
    "                \"iterativeOverlap\" : 0.,\n",
    "                \"maximumOverlap\" : 1.0,\n",
    "                \"sat_sun_restriction\" : 5.,\n",
    "                \"sat_earth_constraint\" : 5.,\n",
    "                \"sat_moon_constraint\" : 5.,\n",
    "}\n",
    "\n",
    "# Create Athena\n",
    "Athena=SYTs.Athena(**Athena_kwargs)\n",
    "\n",
    "\n"
   ]
  },
  {
   "cell_type": "code",
   "execution_count": null,
   "id": "cc00580f",
   "metadata": {},
   "outputs": [],
   "source": [
    "# Plot calculated Athena orbit -- size of circles correspond to angular diameters of each object as viewed by Athena\n",
    "config_struct = segs_a.calc_telescope_orbit(Athena.telescope_config_struct,SAVETOFILE=False)\n",
    "SYU.PlotOrbit(config_struct, SaveFig=False) ## Might move this to within the Athena class to avoid dealing with config struct.\n",
    "\n",
    "# Animate the trajectory to be fancy (might need to do at command line or save in order to render animation)\n",
    "SYU.AnimateOrbit(config_struct,include_sun=False,SaveAnim=False)\n",
    "\n",
    "print(Athena.telescope_config_struct[\"mission_duration\"], config_struct[\"mission_duration\"])\n"
   ]
  },
  {
   "cell_type": "code",
   "execution_count": null,
   "id": "765a758f",
   "metadata": {},
   "outputs": [],
   "source": [
    "# Generate EM flux based on a simple flat flux (this step is checked for inside tiling functions. we call it here just to show how to do it.)\n",
    "EM_kwargs={}\n",
    "Merger.GenerateEMFlux(fstart22=1e-4,TYPE=\"const\",**EM_kwargs)\n",
    "\n",
    "# Calculate CTR based on Athena object (this step is checked for inside tiling functions. we call it here just to show how to do it.)\n",
    "Merger.GenerateCTR(Athena.ARF_file_loc_name,gamma=1.7)\n",
    "  "
   ]
  },
  {
   "cell_type": "code",
   "execution_count": null,
   "id": "aff180be",
   "metadata": {},
   "outputs": [],
   "source": [
    "# tile with GWEMOpt -- returns a list of detectors based on how many tilings asked for\n",
    "Athena = SYU.TileSkyArea(sources=Merger,telescopes=Athena,verbose=False)\n"
   ]
  },
  {
   "cell_type": "code",
   "execution_count": null,
   "id": "409f1238",
   "metadata": {},
   "outputs": [],
   "source": [
    "##### Plot stuff using gwemopt internal plotting functions\n",
    "\n",
    "# gwemtop uses different architectures so need to reorder some stuff before plotting (SYNEX equiv. function in progress)\n",
    "go_params,map_struct=SYU.PrepareGwemoptDicts(Merger,Athena[0])\n",
    "TileStructs = {Ath.telescope_config_struct[\"telescope\"]:Ath.telescope_tile_struct for Ath in Athena}\n",
    "\n",
    "# Plot all tiles (SYNEX equiv. function in progress)\n",
    "gwemopt.plotting.tiles(go_params, map_struct, TileStructs)\n"
   ]
  },
  {
   "cell_type": "code",
   "execution_count": null,
   "id": "d2b1d1b4",
   "metadata": {},
   "outputs": [],
   "source": [
    "### Repeat but with cloning of Tobs\n",
    "\n",
    "#### Filename is still adding exfimename to the filename...\n",
    "\n",
    "# Define what we want to iterate tiling over\n",
    "T_obs_array = [np.array([0.,1.]),np.array([0.,2.]),np.array([0.,3.]),np.array([0.,4.])]\n",
    "cloning_params={\"Tobs\":T_obs_array} # Tobs in days = total observation time available for Athena to tile\n",
    "\n",
    "# Some output options\n",
    "SaveInSubFile = \"Test_functions\"\n",
    "SaveFileCommonStart = \"System\"\n",
    "\n",
    "# tile with GWEMOpt -- returns a list of detectors based on how many tilings asked for\n",
    "Athenas_out = SYU.TileSkyArea(sources=Merger,base_telescope_params=Athena_kwargs,cloning_params=cloning_params,SaveInSubFile=SaveInSubFile,SaveFileCommonStart=SaveFileCommonStart,verbose=False)\n",
    "\n",
    "# See now why we output a list of detectors;\n",
    "print(\"\\n\\n\")\n",
    "print(len(Athenas_out),\"detector params passed back from tiling function, with total observation times:\")\n",
    "for Ath in Athenas_out: print(Ath.telescope_go_params[\"Tobs\"])\n",
    "    "
   ]
  },
  {
   "cell_type": "code",
   "execution_count": null,
   "id": "6ec0372c",
   "metadata": {},
   "outputs": [],
   "source": [
    "# Access some interesting information regaring the tiling process\n",
    "for i,Athena in enumerate(Athenas_out):\n",
    "    print(\"Tobs:\",Athena.telescope_go_params[\"Tobs\"],\"found source\",len(Athena.telescope_source_coverage[\"Source tile timeranges (isot)\"]),\"times, collecting\",sum(Athena.telescope_source_coverage[\"Source photon counts\"]),\"total photons from the source at tile time ranges\",Athena.telescope_source_coverage[\"Source tile timeranges (isot)\"],\"\\n\")\n",
    "\n",
    "# Put all the info into a pandas dataframe cause this is just easier\n",
    "data=SYU.GetDataFrame(telescopes=Athenas_out,SaveFile=\"Test_system\")\n",
    "\n",
    "###\n",
    "# Note - the dataframe approach is very useful if at anytime you want to compare\n",
    "# a set of detectors with completed tiling. You pass a list of savefile names and\n",
    "# the function will hand back a dataframe with columns equal to the useful information.\n",
    "###\n",
    "\n",
    "# Show data\n",
    "data.head()\n"
   ]
  },
  {
   "cell_type": "code",
   "execution_count": null,
   "id": "1d35a5be",
   "metadata": {
    "scrolled": false
   },
   "outputs": [],
   "source": [
    "\n",
    "##### Plot schedule results using gwemopt internal plotting functions\n",
    "\n",
    "# gwemtop uses different architectures so need to reorder some stuff before plotting (SYNEX equiv. function in progress)\n",
    "SYU.PlotCoverage(Merger,Athenas_out[0])\n",
    "\n",
    "# Plot dictionaries (SYNEX equiv. function in progress)\n",
    "# gwemopt.plotting.scheduler(go_params,exposurelist,keys) -- this function is tricky to get right; adaptation to SYNEX on TO DO list.\n",
    "\n",
    "\n",
    "\n",
    "#######\n",
    "#\n",
    "# NB: you can add go_params[\"doPlots\"]=True, or add \"doPlots\":True option to Athena kwargs at initiation to output\n",
    "#     all posible plots that gwemopt as internally.\n",
    "#\n",
    "#######\n"
   ]
  }
 ],
 "metadata": {
  "kernelspec": {
   "display_name": "Python 3 (ipykernel)",
   "language": "python",
   "name": "python3"
  },
  "language_info": {
   "codemirror_mode": {
    "name": "ipython",
    "version": 3
   },
   "file_extension": ".py",
   "mimetype": "text/x-python",
   "name": "python",
   "nbconvert_exporter": "python",
   "pygments_lexer": "ipython3",
   "version": "3.9.2"
  }
 },
 "nbformat": 4,
 "nbformat_minor": 5
}
